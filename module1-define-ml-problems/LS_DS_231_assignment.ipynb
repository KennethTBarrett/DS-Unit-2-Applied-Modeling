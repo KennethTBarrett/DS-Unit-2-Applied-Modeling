{
  "nbformat": 4,
  "nbformat_minor": 0,
  "metadata": {
    "kernelspec": {
      "display_name": "Python 3",
      "language": "python",
      "name": "python3"
    },
    "language_info": {
      "codemirror_mode": {
        "name": "ipython",
        "version": 3
      },
      "file_extension": ".py",
      "mimetype": "text/x-python",
      "name": "python",
      "nbconvert_exporter": "python",
      "pygments_lexer": "ipython3",
      "version": "3.7.6"
    },
    "colab": {
      "name": "LS_DS_231_assignment.ipynb",
      "provenance": []
    }
  },
  "cells": [
    {
      "cell_type": "markdown",
      "metadata": {
        "colab_type": "text",
        "id": "nCc3XZEyG3XV"
      },
      "source": [
        "Lambda School Data Science\n",
        "\n",
        "*Unit 2, Sprint 3, Module 1*\n",
        "\n",
        "---\n",
        "\n",
        "\n",
        "# Define ML problems\n",
        "\n",
        "You will use your portfolio project dataset for all assignments this sprint.\n",
        "\n",
        "## Assignment\n",
        "\n",
        "Complete these tasks for your project, and document your decisions.\n",
        "\n",
        "- [x] Choose your target. Which column in your tabular dataset will you predict?\n",
        "- [x] Is your problem regression or classification?\n",
        "- [x] How is your target distributed?\n",
        "    - Classification: How many classes? Are the classes imbalanced?\n",
        "    - Regression: Is the target right-skewed? If so, you may want to log transform the target.\n",
        "- [x] Choose your evaluation metric(s).\n",
        "    - Classification: Is your majority class frequency >= 50% and < 70% ? If so, you can just use accuracy if you want. Outside that range, accuracy could be misleading. What evaluation metric will you choose, in addition to or instead of accuracy?\n",
        "    - Regression: Will you use mean absolute error, root mean squared error, R^2, or other regression metrics?\n",
        "- [x] Choose which observations you will use to train, validate, and test your model.\n",
        "    - Are some observations outliers? Will you exclude them?\n",
        "    - Will you do a random split or a time-based split?\n",
        "- [x] Begin to clean and explore your data.\n",
        "- [x] Begin to choose which features, if any, to exclude. Would some features \"leak\" future information?\n",
        "\n",
        "If you haven't found a dataset yet, do that today. [Review requirements for your portfolio project](https://lambdaschool.github.io/ds/unit2) and choose your dataset.\n",
        "\n",
        "Some students worry, ***what if my model isn't “good”?*** Then, [produce a detailed tribute to your wrongness. That is science!](https://twitter.com/nathanwpyle/status/1176860147223867393)"
      ]
    },
    {
      "cell_type": "markdown",
      "metadata": {
        "id": "5hKqUhWLIimI",
        "colab_type": "text"
      },
      "source": [
        "# Choose a Target"
      ]
    },
    {
      "cell_type": "markdown",
      "metadata": {
        "id": "tTHx31TrIlga",
        "colab_type": "text"
      },
      "source": [
        "The target I plan to predict is the crude rate."
      ]
    },
    {
      "cell_type": "markdown",
      "metadata": {
        "id": "Qbpf024gI0Fi",
        "colab_type": "text"
      },
      "source": [
        "# Is the Problem Regression or Classification?"
      ]
    },
    {
      "cell_type": "markdown",
      "metadata": {
        "id": "_Lh9kWa6I4WJ",
        "colab_type": "text"
      },
      "source": [
        "This is a regression issue, as we're trying to predict a numerical value, not a discrete / categorical variable."
      ]
    },
    {
      "cell_type": "markdown",
      "metadata": {
        "id": "xTQQQ1k9JosM",
        "colab_type": "text"
      },
      "source": [
        "# Distribution of Data"
      ]
    },
    {
      "cell_type": "markdown",
      "metadata": {
        "id": "Cfdwq8TzJ7h_",
        "colab_type": "text"
      },
      "source": [
        "The data has a negative skew as is expected, because we do know that suicide rates are climbing."
      ]
    },
    {
      "cell_type": "markdown",
      "metadata": {
        "id": "FfMzEetbJ7yD",
        "colab_type": "text"
      },
      "source": [
        "# Evaluation Metrics"
      ]
    },
    {
      "cell_type": "markdown",
      "metadata": {
        "id": "5S9H9pSRKHJY",
        "colab_type": "text"
      },
      "source": [
        "I believe the MSE would be the best metric for this regression task, because it does penalize even a small error. "
      ]
    },
    {
      "cell_type": "markdown",
      "metadata": {
        "id": "ytczSCBTKHZ5",
        "colab_type": "text"
      },
      "source": [
        "# Choose Observations for Train / Val / Test Split"
      ]
    },
    {
      "cell_type": "markdown",
      "metadata": {
        "id": "r6vWxGE9KL_R",
        "colab_type": "text"
      },
      "source": [
        "There are some outliers on the low end for death counts which I plan to exclude, my reasoning being the nature of the topic of suicide; we do not want inaccurate data for absolute maximum accuracy, and the dataset described such low counts as unreliable."
      ]
    },
    {
      "cell_type": "markdown",
      "metadata": {
        "id": "cYzOCX6aK54B",
        "colab_type": "text"
      },
      "source": [
        "# Begin to Clean & Explore Data"
      ]
    },
    {
      "cell_type": "markdown",
      "metadata": {
        "id": "3C01EmtYK8zd",
        "colab_type": "text"
      },
      "source": [
        "Have begun this in another notebook, please inquire if you'd like the Colab link."
      ]
    },
    {
      "cell_type": "markdown",
      "metadata": {
        "id": "onzfTRHrLENC",
        "colab_type": "text"
      },
      "source": [
        "# Choose Features to Exclude"
      ]
    },
    {
      "cell_type": "markdown",
      "metadata": {
        "id": "-4zlDTsPLHhO",
        "colab_type": "text"
      },
      "source": [
        "I've preprocessed the data to what I believe will be the most relevant factors (State, Month, Year), as well as some factors that may come into play, such as day of the week, place of death, and I've begun engineering features to account for different presidencies in different social and economic time periods, etc. I've also re-calculated the crude rate for higher accuracy than was offered."
      ]
    }
  ]
}